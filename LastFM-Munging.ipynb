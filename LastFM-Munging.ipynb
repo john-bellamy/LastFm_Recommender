{
 "cells": [
  {
   "cell_type": "code",
   "execution_count": 1,
   "metadata": {
    "collapsed": true,
    "deletable": true,
    "editable": true
   },
   "outputs": [],
   "source": [
    "text_file=\"/dataset/dir/data/file.csv\""
   ]
  },
  {
   "cell_type": "code",
   "execution_count": 2,
   "metadata": {
    "collapsed": false,
    "deletable": true,
    "editable": true
   },
   "outputs": [],
   "source": [
    "plays = sc.textFile(text_file)"
   ]
  },
  {
   "cell_type": "code",
   "execution_count": 3,
   "metadata": {
    "collapsed": false,
    "deletable": true,
    "editable": true
   },
   "outputs": [
    {
     "data": {
      "text/plain": [
       "['00000c289a1829a808ac09c00daf10bc3c4e223b\\t3bd73256-3905-4f3a-97e2-8b341527f805\\tbetty blowtorch\\t2137',\n",
       " '00000c289a1829a808ac09c00daf10bc3c4e223b\\tf2fb0ff0-5679-42ec-a55c-15109ce6e320\\tdie Ärzte\\t1099',\n",
       " '00000c289a1829a808ac09c00daf10bc3c4e223b\\tb3ae82c2-e60b-4551-a76d-6620f1b456aa\\tmelissa etheridge\\t897',\n",
       " '00000c289a1829a808ac09c00daf10bc3c4e223b\\t3d6bbeb7-f90e-4d10-b440-e153c0d10b53\\telvenking\\t717',\n",
       " '00000c289a1829a808ac09c00daf10bc3c4e223b\\tbbd2ffd7-17f4-4506-8572-c1ea58c3f9a8\\tjuliette & the licks\\t706']"
      ]
     },
     "execution_count": 3,
     "metadata": {},
     "output_type": "execute_result"
    }
   ],
   "source": [
    "plays.take(5)"
   ]
  },
  {
   "cell_type": "code",
   "execution_count": 4,
   "metadata": {
    "collapsed": true,
    "deletable": true,
    "editable": true
   },
   "outputs": [],
   "source": [
    "#  user-mboxsha1 \\t musicbrainz-artist-id \\t artist-name \\t plays\n",
    "# SPlit on /t\n",
    "ratings_data = plays.map(lambda line: line.split(\"\\t\"))\n"
   ]
  },
  {
   "cell_type": "code",
   "execution_count": 5,
   "metadata": {
    "collapsed": false,
    "deletable": true,
    "editable": true
   },
   "outputs": [
    {
     "data": {
      "text/plain": [
       "[['00000c289a1829a808ac09c00daf10bc3c4e223b',\n",
       "  '3bd73256-3905-4f3a-97e2-8b341527f805',\n",
       "  'betty blowtorch',\n",
       "  '2137'],\n",
       " ['00000c289a1829a808ac09c00daf10bc3c4e223b',\n",
       "  'f2fb0ff0-5679-42ec-a55c-15109ce6e320',\n",
       "  'die Ärzte',\n",
       "  '1099'],\n",
       " ['00000c289a1829a808ac09c00daf10bc3c4e223b',\n",
       "  'b3ae82c2-e60b-4551-a76d-6620f1b456aa',\n",
       "  'melissa etheridge',\n",
       "  '897'],\n",
       " ['00000c289a1829a808ac09c00daf10bc3c4e223b',\n",
       "  '3d6bbeb7-f90e-4d10-b440-e153c0d10b53',\n",
       "  'elvenking',\n",
       "  '717'],\n",
       " ['00000c289a1829a808ac09c00daf10bc3c4e223b',\n",
       "  'bbd2ffd7-17f4-4506-8572-c1ea58c3f9a8',\n",
       "  'juliette & the licks',\n",
       "  '706']]"
      ]
     },
     "execution_count": 5,
     "metadata": {},
     "output_type": "execute_result"
    }
   ],
   "source": [
    "ratings_data.take(5)"
   ]
  },
  {
   "cell_type": "code",
   "execution_count": 6,
   "metadata": {
    "collapsed": true,
    "deletable": true,
    "editable": true
   },
   "outputs": [],
   "source": [
    "#we only want userid, artist_id  and number of plays; these are found in the following columns\n",
    "ratings_data_pertinent = ratings_data.map(lambda x: (x[0], x[2],(x[3])))"
   ]
  },
  {
   "cell_type": "code",
   "execution_count": 9,
   "metadata": {
    "collapsed": true,
    "deletable": true,
    "editable": true
   },
   "outputs": [],
   "source": [
    "###BEGIN DATA Munging -- "
   ]
  },
  {
   "cell_type": "code",
   "execution_count": 7,
   "metadata": {
    "collapsed": true,
    "deletable": true,
    "editable": true
   },
   "outputs": [],
   "source": [
    "# Let's make a numerical id out of the encrypted user_id feature:\n",
    "#Note: it may be easier to just assign a new id, rather than using the encrypted user_id field.\n",
    "#However, this project is to demonstrate data cleaning as well as model development.\n",
    "#Furthermore, what if assigning a new id is  not desirable in a situation?\n",
    "#For better or worse, perhaps we will be creating a user_id we can use, the \"hard way,\"\n",
    "#The approache we take for the artist_id field could certainly be used and would be easier. \n",
    "#But, easier does not always equal better."
   ]
  },
  {
   "cell_type": "code",
   "execution_count": 8,
   "metadata": {
    "collapsed": true,
    "deletable": true,
    "editable": true
   },
   "outputs": [],
   "source": [
    "# Perhaps regex would be more efficient and easier, but I find dictionaries extremely useful when I need to replace words or\n",
    "# or remove words. It seems regex can  be more \"large-handed\" and clumsy. Dictionaries are very precise.\n",
    "#Im defining a  method here to replace the letters in the artist MD5-SHA with numbers:\n",
    "import string\n",
    "\n",
    "def numerizer(word):\n",
    "    translation = str.maketrans(\"\",\"\", string.punctuation)\n",
    "    new_word = word.translate(translation)\n",
    "    new_word_lower = new_word.lower()\n",
    "    return new_word_lower.strip(\" \")\n",
    "\n",
    "def md5_replace(word,_dict):\n",
    "    i = list(_dict.keys())\n",
    "    j = list(_dict.values())\n",
    "    k = len(j)-1\n",
    "    _word = numerizer(word)\n",
    "    while k >= 0:\n",
    "        _word1 = str.replace(_word, i[k], j[k])\n",
    "        _word =_word1  \n",
    "        k-= 1\n",
    "    return _word1\n"
   ]
  },
  {
   "cell_type": "code",
   "execution_count": 9,
   "metadata": {
    "collapsed": true,
    "deletable": true,
    "editable": true
   },
   "outputs": [],
   "source": [
    "alpha_dict = {\"a\":\"1\", \"b\":\"2\",\"c\":\"3\",\"d\":\"4\", \"e\":\"5\",\"f\":\"6\",\"g\":\"7\",\n",
    "              \"h\":\"8\",\"i\":\"9\",\"j\":\"10\",\"k\":\"11\",\"l\":\"12\",\"m\":\"13\",\"n\":\"14\",\"o\":\"15\",\n",
    "                  \"p\":\"16\",\"q\":\"17\",\"r\":\"18\", \"s\":\"19\",\"t\":\"20\",\"u\":\"21\",\"v\":\"22\",\"w\":\"23\",\"x\":\"24\",\n",
    "                  \"y\":\"25\",\"z\":\"26\",\" \":\"0\", \"ä\":\"27\",\"ö\":\"28\"}"
   ]
  },
  {
   "cell_type": "code",
   "execution_count": 10,
   "metadata": {
    "collapsed": true,
    "deletable": true,
    "editable": true
   },
   "outputs": [],
   "source": [
    "# Get rid of leading zeroes which will be problematic and apply alpha character function\n",
    "numeric_uid = ratings_data_pertinent.map(lambda x: md5_replace(x[0], alpha_dict)).map(lambda line: line.lstrip(\"0\"))"
   ]
  },
  {
   "cell_type": "code",
   "execution_count": 11,
   "metadata": {
    "collapsed": false,
    "deletable": true,
    "editable": true
   },
   "outputs": [
    {
     "data": {
      "text/plain": [
       "['32891182918081309300416102333452232',\n",
       " '32891182918081309300416102333452232',\n",
       " '32891182918081309300416102333452232',\n",
       " '32891182918081309300416102333452232',\n",
       " '32891182918081309300416102333452232']"
      ]
     },
     "execution_count": 11,
     "metadata": {},
     "output_type": "execute_result"
    }
   ],
   "source": [
    "#We can see below that we have a numeric uid now. This user has the first 49 entries. However, we need to cut down \n",
    "# The size of this number; alot!\n",
    "numeric_uid.take(5)"
   ]
  },
  {
   "cell_type": "code",
   "execution_count": 12,
   "metadata": {
    "collapsed": true,
    "deletable": true,
    "editable": true
   },
   "outputs": [],
   "source": [
    "def shrinker(num):\n",
    "    places = len(num)-9\n",
    " \n",
    "    if places > 0:\n",
    "        zeroes = places \n",
    "      \n",
    "        cutter = \"1\"\n",
    "        for x in range(zeroes):\n",
    "             cutter+=str(0)\n",
    "        return str(round(int(num)/float(cutter)))\n",
    "\n",
    "    else:\n",
    "        return num\n",
    "    "
   ]
  },
  {
   "cell_type": "code",
   "execution_count": 13,
   "metadata": {
    "collapsed": true,
    "deletable": true,
    "editable": true
   },
   "outputs": [],
   "source": [
    "numeric_uid = numeric_uid.map(lambda x : shrinker(x))"
   ]
  },
  {
   "cell_type": "code",
   "execution_count": 14,
   "metadata": {
    "collapsed": false,
    "deletable": true,
    "editable": true
   },
   "outputs": [
    {
     "data": {
      "text/plain": [
       "['328911829',\n",
       " '328911829',\n",
       " '328911829',\n",
       " '328911829',\n",
       " '328911829',\n",
       " '328911829',\n",
       " '328911829',\n",
       " '328911829',\n",
       " '328911829',\n",
       " '328911829']"
      ]
     },
     "execution_count": 14,
     "metadata": {},
     "output_type": "execute_result"
    }
   ],
   "source": [
    "numeric_uid.take(10)"
   ]
  },
  {
   "cell_type": "code",
   "execution_count": 15,
   "metadata": {
    "collapsed": false,
    "deletable": true,
    "editable": true
   },
   "outputs": [],
   "source": [
    "numeric_uid_ = numeric_uid.zipWithIndex()"
   ]
  },
  {
   "cell_type": "code",
   "execution_count": 16,
   "metadata": {
    "collapsed": false,
    "deletable": true,
    "editable": true
   },
   "outputs": [
    {
     "data": {
      "text/plain": [
       "[('328911829', 0),\n",
       " ('328911829', 1),\n",
       " ('328911829', 2),\n",
       " ('328911829', 3),\n",
       " ('328911829', 4)]"
      ]
     },
     "execution_count": 16,
     "metadata": {},
     "output_type": "execute_result"
    }
   ],
   "source": [
    "numeric_uid_.take(5)"
   ]
  },
  {
   "cell_type": "code",
   "execution_count": 17,
   "metadata": {
    "collapsed": false,
    "deletable": true,
    "editable": true
   },
   "outputs": [],
   "source": [
    "numeric_uid_ = numeric_uid_.map(lambda x : (x[1],x[0]))"
   ]
  },
  {
   "cell_type": "code",
   "execution_count": 18,
   "metadata": {
    "collapsed": false,
    "deletable": true,
    "editable": true
   },
   "outputs": [
    {
     "data": {
      "text/plain": [
       "[(0, '328911829'),\n",
       " (1, '328911829'),\n",
       " (2, '328911829'),\n",
       " (3, '328911829'),\n",
       " (4, '328911829')]"
      ]
     },
     "execution_count": 18,
     "metadata": {},
     "output_type": "execute_result"
    }
   ],
   "source": [
    "numeric_uid_.take(5)"
   ]
  },
  {
   "cell_type": "code",
   "execution_count": 19,
   "metadata": {
    "collapsed": true,
    "deletable": true,
    "editable": true
   },
   "outputs": [],
   "source": [
    "#To get all of the artists we will use groupby. Then we can assign a number to each of the unique artists\n",
    "artist_name = ratings_data_pertinent.map(lambda x: (x[1])).distinct()"
   ]
  },
  {
   "cell_type": "code",
   "execution_count": 20,
   "metadata": {
    "collapsed": false,
    "deletable": true,
    "editable": true
   },
   "outputs": [
    {
     "data": {
      "text/plain": [
       "['�������', '��疲暎�', '��|', '￼beastie boys', '￼antonio mairena']"
      ]
     },
     "execution_count": 20,
     "metadata": {},
     "output_type": "execute_result"
    }
   ],
   "source": [
    "artist_name.top(5)"
   ]
  },
  {
   "cell_type": "code",
   "execution_count": 21,
   "metadata": {
    "collapsed": false,
    "deletable": true,
    "editable": true
   },
   "outputs": [
    {
     "data": {
      "text/plain": [
       "292589"
      ]
     },
     "execution_count": 21,
     "metadata": {},
     "output_type": "execute_result"
    }
   ],
   "source": [
    "#Make sure we still have all the artists\n",
    "artist_name.count()"
   ]
  },
  {
   "cell_type": "code",
   "execution_count": 22,
   "metadata": {
    "collapsed": true,
    "deletable": true,
    "editable": true
   },
   "outputs": [],
   "source": [
    "#Now we can add a unique id for each artist name\n",
    "artist_index=sc.parallelize(range(1,292590))"
   ]
  },
  {
   "cell_type": "code",
   "execution_count": 23,
   "metadata": {
    "collapsed": false,
    "deletable": true,
    "editable": true
   },
   "outputs": [],
   "source": [
    "artist_index = artist_index.zipWithIndex()\n",
    "artist_name = artist_name.zipWithIndex()"
   ]
  },
  {
   "cell_type": "code",
   "execution_count": 24,
   "metadata": {
    "collapsed": true,
    "deletable": true,
    "editable": true
   },
   "outputs": [],
   "source": [
    "artist_index = artist_index.map(lambda x: (x[1],x[0]))\n",
    "artist_name = artist_name.map(lambda x: (x[1],x[0]))"
   ]
  },
  {
   "cell_type": "code",
   "execution_count": 25,
   "metadata": {
    "collapsed": false,
    "deletable": true,
    "editable": true
   },
   "outputs": [
    {
     "data": {
      "text/plain": [
       "[(0, 'camo & krooked'),\n",
       " (1, 'ney-the sufi cry out'),\n",
       " (2, 'camela leierth'),\n",
       " (3,\n",
       "  'chamy. ishi, rei kondoh, taiki endo, yasutaka hatade, satoshi miyashita'),\n",
       " (4, 'january star')]"
      ]
     },
     "execution_count": 25,
     "metadata": {},
     "output_type": "execute_result"
    }
   ],
   "source": [
    "artist_name.take(5)"
   ]
  },
  {
   "cell_type": "code",
   "execution_count": 26,
   "metadata": {
    "collapsed": false,
    "deletable": true,
    "editable": true
   },
   "outputs": [],
   "source": [
    "#numeric_aid_indexed = numeric_aid_index.zip(numeric_aid_)\n",
    "aid_indexed = artist_index.join(artist_name)"
   ]
  },
  {
   "cell_type": "code",
   "execution_count": 27,
   "metadata": {
    "collapsed": false,
    "deletable": true,
    "editable": true
   },
   "outputs": [
    {
     "data": {
      "text/plain": [
       "[(292588, (292589, '吴景略')),\n",
       " (292587, (292588, 'david t. chastain')),\n",
       " (292586, (292587, 'walter meego')),\n",
       " (292585, (292586, 'berliner saxophon-ensemble')),\n",
       " (292584, (292585, 'badboe'))]"
      ]
     },
     "execution_count": 27,
     "metadata": {},
     "output_type": "execute_result"
    }
   ],
   "source": [
    "aid_indexed.top(5)"
   ]
  },
  {
   "cell_type": "code",
   "execution_count": 28,
   "metadata": {
    "collapsed": false,
    "deletable": true,
    "editable": true
   },
   "outputs": [],
   "source": [
    "aid_indexed = aid_indexed.map(lambda x: (x[1][1],x[0]))"
   ]
  },
  {
   "cell_type": "code",
   "execution_count": 29,
   "metadata": {
    "collapsed": false,
    "deletable": true,
    "editable": true
   },
   "outputs": [
    {
     "data": {
      "text/plain": [
       "[('�������', 194632),\n",
       " ('��疲暎�', 287148),\n",
       " ('��|', 65655),\n",
       " ('￼beastie boys', 289787),\n",
       " ('￼antonio mairena', 222260)]"
      ]
     },
     "execution_count": 29,
     "metadata": {},
     "output_type": "execute_result"
    }
   ],
   "source": [
    "aid_indexed.top(5)"
   ]
  },
  {
   "cell_type": "code",
   "execution_count": 30,
   "metadata": {
    "collapsed": true,
    "deletable": true,
    "editable": true
   },
   "outputs": [],
   "source": [
    "artist_titles = ratings_data_pertinent.map(lambda x:(x[1]))"
   ]
  },
  {
   "cell_type": "code",
   "execution_count": 31,
   "metadata": {
    "collapsed": false,
    "deletable": true,
    "editable": true
   },
   "outputs": [
    {
     "data": {
      "text/plain": [
       "['betty blowtorch',\n",
       " 'die Ärzte',\n",
       " 'melissa etheridge',\n",
       " 'elvenking',\n",
       " 'juliette & the licks']"
      ]
     },
     "execution_count": 31,
     "metadata": {},
     "output_type": "execute_result"
    }
   ],
   "source": [
    "artist_titles.take(5)"
   ]
  },
  {
   "cell_type": "code",
   "execution_count": 32,
   "metadata": {
    "collapsed": false,
    "deletable": true,
    "editable": true
   },
   "outputs": [],
   "source": [
    "#To use the index as a sort of lookup table, we need to estabilish a common index\n",
    "artists_ = artist_titles.keyBy(lambda r : r)\n",
    "index_ = aid_indexed.keyBy(lambda r: r[0])"
   ]
  },
  {
   "cell_type": "code",
   "execution_count": 33,
   "metadata": {
    "collapsed": false,
    "deletable": true,
    "editable": true
   },
   "outputs": [
    {
     "data": {
      "text/plain": [
       "[('betty blowtorch', 'betty blowtorch'),\n",
       " ('die Ärzte', 'die Ärzte'),\n",
       " ('melissa etheridge', 'melissa etheridge'),\n",
       " ('elvenking', 'elvenking'),\n",
       " ('juliette & the licks', 'juliette & the licks')]"
      ]
     },
     "execution_count": 33,
     "metadata": {},
     "output_type": "execute_result"
    }
   ],
   "source": [
    "artists_.take(5)"
   ]
  },
  {
   "cell_type": "code",
   "execution_count": 34,
   "metadata": {
    "collapsed": false,
    "deletable": true,
    "editable": true
   },
   "outputs": [
    {
     "data": {
      "text/plain": [
       "[('camo & krooked', ('camo & krooked', 0)),\n",
       " ('nat king cole & dean martin', ('nat king cole & dean martin', 204800)),\n",
       " ('bresser', ('bresser', 106500)),\n",
       " ('jardín de heno', ('jardín de heno', 213000)),\n",
       " ('armand van helden & sneaker pimps',\n",
       "  ('armand van helden & sneaker pimps', 240300))]"
      ]
     },
     "execution_count": 34,
     "metadata": {},
     "output_type": "execute_result"
    }
   ],
   "source": [
    "index_.take(5)"
   ]
  },
  {
   "cell_type": "code",
   "execution_count": 36,
   "metadata": {
    "collapsed": true,
    "deletable": true,
    "editable": true
   },
   "outputs": [],
   "source": [
    "artists_index = artists_.join(index_)"
   ]
  },
  {
   "cell_type": "code",
   "execution_count": 37,
   "metadata": {
    "collapsed": false,
    "deletable": true,
    "editable": true
   },
   "outputs": [
    {
     "data": {
      "text/plain": [
       "[('camo & krooked', ('camo & krooked', ('camo & krooked', 0))),\n",
       " ('camo & krooked', ('camo & krooked', ('camo & krooked', 0))),\n",
       " ('camo & krooked', ('camo & krooked', ('camo & krooked', 0))),\n",
       " ('camo & krooked', ('camo & krooked', ('camo & krooked', 0))),\n",
       " ('camo & krooked', ('camo & krooked', ('camo & krooked', 0)))]"
      ]
     },
     "execution_count": 37,
     "metadata": {},
     "output_type": "execute_result"
    }
   ],
   "source": [
    "#Heres our artists index\n",
    "artists_index.take(5)"
   ]
  },
  {
   "cell_type": "code",
   "execution_count": 38,
   "metadata": {
    "collapsed": true,
    "deletable": true,
    "editable": true
   },
   "outputs": [],
   "source": [
    "# Take just the tuple we need\n",
    "artist_index = artists_index.map(lambda x: (x[1][1]))"
   ]
  },
  {
   "cell_type": "code",
   "execution_count": 39,
   "metadata": {
    "collapsed": false,
    "deletable": true,
    "editable": true
   },
   "outputs": [
    {
     "data": {
      "text/plain": [
       "[('camo & krooked', 0),\n",
       " ('camo & krooked', 0),\n",
       " ('camo & krooked', 0),\n",
       " ('camo & krooked', 0),\n",
       " ('camo & krooked', 0)]"
      ]
     },
     "execution_count": 39,
     "metadata": {},
     "output_type": "execute_result"
    }
   ],
   "source": [
    "artist_index.take(5)"
   ]
  },
  {
   "cell_type": "code",
   "execution_count": 40,
   "metadata": {
    "collapsed": true,
    "deletable": true,
    "editable": true
   },
   "outputs": [],
   "source": [
    "ratings_data = ratings_data_pertinent.map(lambda x: (x[2]))"
   ]
  },
  {
   "cell_type": "code",
   "execution_count": 41,
   "metadata": {
    "collapsed": false,
    "deletable": true,
    "editable": true
   },
   "outputs": [
    {
     "data": {
      "text/plain": [
       "['2137', '1099', '897', '717', '706']"
      ]
     },
     "execution_count": 41,
     "metadata": {},
     "output_type": "execute_result"
    }
   ],
   "source": [
    "ratings_data.take(5)"
   ]
  },
  {
   "cell_type": "code",
   "execution_count": 42,
   "metadata": {
    "collapsed": true,
    "deletable": true,
    "editable": true
   },
   "outputs": [],
   "source": [
    "artist_names = artist_index.map(lambda x: (x[0]))\n",
    "artist_id = artist_index.map(lambda x: (x[1]))"
   ]
  },
  {
   "cell_type": "code",
   "execution_count": 43,
   "metadata": {
    "collapsed": false,
    "deletable": true,
    "editable": true
   },
   "outputs": [],
   "source": [
    "ratings = ratings_data.zipWithIndex()\n",
    "artist_index_ = artist_index.zipWithIndex()\n",
    "uids = numeric_uid.zipWithIndex()"
   ]
  },
  {
   "cell_type": "code",
   "execution_count": 44,
   "metadata": {
    "collapsed": false,
    "deletable": true,
    "editable": true
   },
   "outputs": [
    {
     "data": {
      "text/plain": [
       "[('328911829', 0),\n",
       " ('328911829', 1),\n",
       " ('328911829', 2),\n",
       " ('328911829', 3),\n",
       " ('328911829', 4)]"
      ]
     },
     "execution_count": 44,
     "metadata": {},
     "output_type": "execute_result"
    }
   ],
   "source": [
    "uids.take(5)"
   ]
  },
  {
   "cell_type": "code",
   "execution_count": 45,
   "metadata": {
    "collapsed": false,
    "deletable": true,
    "editable": true
   },
   "outputs": [
    {
     "data": {
      "text/plain": [
       "[(('camo & krooked', 0), 0),\n",
       " (('camo & krooked', 0), 1),\n",
       " (('camo & krooked', 0), 2),\n",
       " (('camo & krooked', 0), 3),\n",
       " (('camo & krooked', 0), 4)]"
      ]
     },
     "execution_count": 45,
     "metadata": {},
     "output_type": "execute_result"
    }
   ],
   "source": [
    "artist_index_.take(5)"
   ]
  },
  {
   "cell_type": "code",
   "execution_count": 46,
   "metadata": {
    "collapsed": false,
    "deletable": true,
    "editable": true
   },
   "outputs": [],
   "source": [
    "artist_index_ = artist_index_.map(lambda x: (x[1],x[0]))\n",
    "uids = uids.map(lambda x: (x[1],x[0]))\n",
    "ratings = ratings.map(lambda x: (x[1],x[0]))"
   ]
  },
  {
   "cell_type": "code",
   "execution_count": 47,
   "metadata": {
    "collapsed": false,
    "deletable": true,
    "editable": true
   },
   "outputs": [
    {
     "data": {
      "text/plain": [
       "[(0, '2137'), (1, '1099'), (2, '897'), (3, '717'), (4, '706')]"
      ]
     },
     "execution_count": 47,
     "metadata": {},
     "output_type": "execute_result"
    }
   ],
   "source": [
    "ratings.take(5)"
   ]
  },
  {
   "cell_type": "code",
   "execution_count": 49,
   "metadata": {
    "collapsed": false,
    "deletable": true,
    "editable": true
   },
   "outputs": [],
   "source": [
    "RDD = uids.join(artist_index_).join(ratings)"
   ]
  },
  {
   "cell_type": "code",
   "execution_count": 50,
   "metadata": {
    "collapsed": false,
    "deletable": true,
    "editable": true
   },
   "outputs": [
    {
     "data": {
      "text/plain": [
       "[(0, (('328911829', ('camo & krooked', 0)), '2137')),\n",
       " (13107200, (('266493556', ('grupo montez de durango', 219632)), '517')),\n",
       " (8912900, (('821342251', ('bob marley', 154398)), '424')),\n",
       " (4718600, (('444164354', (\"the cat's miaow\", 82546)), '81')),\n",
       " (524300, (('717350741', ('ozzy osbourne', 9055)), '74'))]"
      ]
     },
     "execution_count": 50,
     "metadata": {},
     "output_type": "execute_result"
    }
   ],
   "source": [
    "RDD.take(5)"
   ]
  },
  {
   "cell_type": "code",
   "execution_count": 51,
   "metadata": {
    "collapsed": true,
    "deletable": true,
    "editable": true
   },
   "outputs": [],
   "source": [
    "def split_tuple(data):\n",
    "    v = data[0]\n",
    "    w = data[1][0][0]\n",
    "    x = data[1][0][1][1]\n",
    "    y = data[1][0][1][0]\n",
    "    z = data[1][1]\n",
    "    return(v, w, x , y, z)"
   ]
  },
  {
   "cell_type": "code",
   "execution_count": 52,
   "metadata": {
    "collapsed": true,
    "deletable": true,
    "editable": true
   },
   "outputs": [],
   "source": [
    "_RDD = RDD.map(lambda x: (split_tuple(x)))"
   ]
  },
  {
   "cell_type": "code",
   "execution_count": 53,
   "metadata": {
    "collapsed": false,
    "deletable": true,
    "editable": true
   },
   "outputs": [
    {
     "data": {
      "text/plain": [
       "[(0, '328911829', 0, 'camo & krooked', '2137'),\n",
       " (13107200, '266493556', 219632, 'grupo montez de durango', '517'),\n",
       " (8912900, '821342251', 154398, 'bob marley', '424'),\n",
       " (4718600, '444164354', 82546, \"the cat's miaow\", '81'),\n",
       " (524300, '717350741', 9055, 'ozzy osbourne', '74')]"
      ]
     },
     "execution_count": 53,
     "metadata": {},
     "output_type": "execute_result"
    }
   ],
   "source": [
    "#Heres our new dataset! It is in the form of index|user_id|artist_name|artist_id|number_of_listens (our implicit rating)\n",
    "_RDD.take(5)"
   ]
  },
  {
   "cell_type": "code",
   "execution_count": 84,
   "metadata": {
    "collapsed": true,
    "deletable": true,
    "editable": true
   },
   "outputs": [],
   "source": [
    "rdd = _RDD.map(lambda x:(str(x)))"
   ]
  },
  {
   "cell_type": "code",
   "execution_count": 168,
   "metadata": {
    "collapsed": true,
    "deletable": true,
    "editable": true
   },
   "outputs": [],
   "source": [
    "# python 3\n",
    "import csv, io\n",
    "\n",
    "def list_to_csv_str(x):\n",
    "    \"\"\"Given a list of strings, returns a properly-csv-formatted string.\"\"\"\n",
    "    output = io.StringIO(\"\")\n",
    "    csv.writer(output).writerow(x)\n",
    "    return output.getvalue().strip() # remove extra newline\n"
   ]
  },
  {
   "cell_type": "code",
   "execution_count": 170,
   "metadata": {
    "collapsed": false,
    "deletable": true,
    "editable": true
   },
   "outputs": [],
   "source": [
    "rdd = _RDD.map(list_to_csv_str)\n",
    "rdd.saveAsTextFile(\"hdfs://server:9000/finalRDD.csv\")"
   ]
  },
  {
   "cell_type": "code",
   "execution_count": null,
   "metadata": {
    "collapsed": true,
    "deletable": true,
    "editable": true
   },
   "outputs": [],
   "source": []
  }
 ],
 "metadata": {
  "kernelspec": {
   "display_name": "Python 3",
   "language": "python",
   "name": "python3"
  },
  "language_info": {
   "codemirror_mode": {
    "name": "ipython",
    "version": 3
   },
   "file_extension": ".py",
   "mimetype": "text/x-python",
   "name": "python",
   "nbconvert_exporter": "python",
   "pygments_lexer": "ipython3",
   "version": "3.5.2"
  }
 },
 "nbformat": 4,
 "nbformat_minor": 2
}
